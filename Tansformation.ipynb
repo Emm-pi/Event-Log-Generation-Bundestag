{
 "cells": [
  {
   "cell_type": "markdown",
   "id": "c3af0285",
   "metadata": {},
   "source": [
    "# Creating XES data from XML data\n",
    "\n",
    "1. Installing relevant packages\n",
    "2. Data cleaning\n",
    "3. \"kleine Anfragen\"\n",
    "4. Other Drucksache types\n",
    "\n",
    "\n",
    "## Installing relevant packages\n",
    "\n",
    "First install and import all relevant packages"
   ]
  },
  {
   "cell_type": "code",
   "execution_count": 1,
   "id": "7969e1e2",
   "metadata": {},
   "outputs": [],
   "source": [
    "#pip install pandas\n",
    "#pip install pm4py\n",
    "#pip install xml.etree.ElementTree"
   ]
  },
  {
   "cell_type": "code",
   "execution_count": 2,
   "id": "47502a84",
   "metadata": {},
   "outputs": [],
   "source": [
    "import pandas as pd\n",
    "import pm4py\n",
    "from pm4py.objects.conversion.log import converter as log_converter\n",
    "from pm4py.objects.log.exporter.xes import exporter as xes_exporter\n",
    "from pm4py.objects.log.util import dataframe_utils\n",
    "import xml.etree.ElementTree as ET\n",
    "import csv\n",
    "import argparse\n",
    "import os\n",
    "import pickle\n",
    "import opyenxes\n",
    "import xml.etree.ElementTree as ET\n",
    "import xml.dom.minidom\n",
    "import re\n",
    "from datetime import datetime"
   ]
  },
  {
   "cell_type": "markdown",
   "id": "effd494c",
   "metadata": {},
   "source": [
    "## Duplicating all elements with multiple vorgangsbezug (<4)\n",
    "\n",
    "**\"1_all_files.xml\"** is a combination of all files (40.147) as they come directly from importing them.\n",
    "\n",
    "Before working with the data we need to add, as otherwise the format will not work:\n",
    "```\n",
    "<anfrage>\n",
    "    ...\n",
    "</anfrage>\n",
    "```\n"
   ]
  },
  {
   "cell_type": "code",
   "execution_count": 3,
   "id": "2a8a3992",
   "metadata": {},
   "outputs": [],
   "source": [
    "tree = ET.parse('.//Input_Data/1_all_files.xml')\n",
    "root = tree.getroot()"
   ]
  },
  {
   "cell_type": "code",
   "execution_count": 4,
   "id": "336055cb",
   "metadata": {},
   "outputs": [],
   "source": [
    "new_root = ET.Element(root.tag)\n",
    "\n",
    "# Iterate through each document\n",
    "for document in root.findall('.//document'):\n",
    "    for vorgangsbezug in document.findall('.//vorgangsbezug'):\n",
    "        new_document = ET.Element('document')\n",
    "        \n",
    "        # Copy all the elements except for vorgangsbezug\n",
    "        for element in document:\n",
    "            if element.tag not in ['vorgangsbezug', 'text']:\n",
    "                new_document.append(element)\n",
    "\n",
    "        # Append the current vorgangsbezug to the new document\n",
    "        new_document.append(vorgangsbezug)\n",
    "\n",
    "        # Append the new document to the combined XML\n",
    "        new_root.append(new_document)\n",
    "\n",
    "new_tree = ET.ElementTree(new_root)\n",
    "\n",
    "output_file_path = './/Input_Data/1_file_per_vorgangsbezug.xml'\n",
    "new_tree.write(output_file_path, encoding='utf-8', xml_declaration=True)"
   ]
  },
  {
   "cell_type": "markdown",
   "id": "c74696b6",
   "metadata": {},
   "source": [
    "### Append extra answers to \"kleine Anfragen\"\n",
    "\n",
    "This was done manually, but could also be automated."
   ]
  },
  {
   "cell_type": "markdown",
   "id": "51e4808f",
   "metadata": {},
   "source": [
    "## Extrabehandlung Drucksachetyp \"Entschließungsantrag\" - Bezug anpassen\n",
    "\n",
    "The events of the type \"Entschließungsantrag\" all refer only to their own type (\"Entschließungsantrag BT), resulting in a very bland process. Looking at the titles of these, it was clear that most of them all refer to other drucksache-types, along all of the spectrum and therefore should be sorted into them. By searching for the relation in their title (19/XXX) they were assigned the related <vorgangybezug> informatation, resulting in a complex map. These events now can be sorted into the right traces and then put into their respective groups (\"kleine Anfrage\", \"Antrag\", ...) "
   ]
  },
  {
   "cell_type": "code",
   "execution_count": 5,
   "id": "103c35f1",
   "metadata": {},
   "outputs": [],
   "source": [
    "def replace_vorgangsbezug(xml_data, output_file):\n",
    "    tree = ET.parse(xml_data)\n",
    "    root = tree.getroot()\n",
    "\n",
    "    # Create a dictionary to store document numbers and corresponding vorgangsbezug elements\n",
    "    document_dict = {}\n",
    "\n",
    "    for doc in root.findall('.//document'):\n",
    "        doc_number = doc.find('./dokumentnummer').text\n",
    "        vorgangsbezug = doc.find('./vorgangsbezug')\n",
    "        if doc_number and vorgangsbezug is not None:\n",
    "            document_dict[doc_number] = vorgangsbezug\n",
    "    \n",
    "    # Iterate through elements to replace vorgangsbezug for Entschließungsantrag\n",
    "    for doc in root.findall('.//document[drucksachetyp=\"Entschließungsantrag\"]'):\n",
    "        title = doc.find('./titel').text\n",
    "        document_numbers = re.findall(r'\\b\\d{2}/\\d+\\b[,\\s]*', title)\n",
    "\n",
    "        # Use the first document number if there are multiple matches\n",
    "        document_number_to_clean = document_numbers[0] if document_numbers else None\n",
    "        document_number_match = re.search(r'\\b\\d{2}/\\d{1,6}\\b', str(document_number_to_clean))\n",
    "        document_number = document_number_match.group() if document_number_match else None\n",
    "\n",
    "        if document_number is not None and document_number in document_dict:\n",
    "            vorgangsbezug = document_dict[document_number]\n",
    "\n",
    "            # Remove existing vorgangsbezug in Entschließungsantrag\n",
    "            existing_vorgangsbezug = doc.find('./vorgangsbezug')\n",
    "            if existing_vorgangsbezug is not None:\n",
    "                doc.remove(existing_vorgangsbezug)\n",
    "\n",
    "            # Add the new vorgangsbezug\n",
    "            doc.append(vorgangsbezug)\n",
    "\n",
    "    tree.write(output_file)\n",
    "\n",
    "xml_file = \".//Input_Data/1_files_per_vorgangsbezug.xml\"\n",
    "output_file = \".//Input_Data/1_Bezug_Entschl.xml\"\n",
    "replace_vorgangsbezug(xml_file, output_file)"
   ]
  },
  {
   "cell_type": "markdown",
   "id": "56a3f8d9",
   "metadata": {},
   "source": [
    "## Make seperate files for all Vorgangsbezüge"
   ]
  },
  {
   "cell_type": "markdown",
   "id": "3a961fd9",
   "metadata": {},
   "source": [
    "## CONVERT DATA\n",
    "\n",
    "Approach that is based on the specific context of kleine Anfragen and Answers."
   ]
  },
  {
   "cell_type": "markdown",
   "id": "630f0251",
   "metadata": {},
   "source": [
    "### Define methods: "
   ]
  },
  {
   "cell_type": "code",
   "execution_count": 6,
   "id": "9b35e6a4",
   "metadata": {},
   "outputs": [],
   "source": [
    "def convert_to_xes(document_element):\n",
    "    # Extract all relevant information from the document element\n",
    "    concept_name = document_element.find('drucksachetyp').text\n",
    "    vorgangsbezug = document_element.find('.//vorgangsbezug/id').text\n",
    "    date_str = document_element.find('datum').text\n",
    "    timestamp = datetime.strptime(date_str, \"%Y-%m-%d\").strftime(\"%Y-%m-%dT%H:%M:%S.%fZ\")\n",
    "    \n",
    "\n",
    "    # Create an event\n",
    "    event = ET.Element('event')\n",
    "    # Add elements to the trace\n",
    "    ET.SubElement(event, 'string', {'key': 'concept:name', 'value': concept_name})\n",
    "    ET.SubElement(event, 'string', {'key': 'vorgangsbezug', 'value': vorgangsbezug})\n",
    "    ET.SubElement(event, 'date', {'key': 'time:timestamp', 'value': timestamp})\n",
    " \n",
    "    event.append(ET.Element('int', {'key': 'wahlperiode', 'value': document_element.find('wahlperiode').text}))\n",
    "    event.append(ET.Element('string', {'key': 'dokumentnummer', 'value': document_element.find('dokumentnummer').text}))\n",
    "    event.append(ET.Element('string', {'key': 'typ', 'value': document_element.find('typ').text}))\n",
    "    event.append(ET.Element('string', {'key': 'dokumentart', 'value': document_element.find('dokumentart').text}))\n",
    "    event.append(ET.Element('string', {'key': 'herausgeber', 'value': document_element.find('herausgeber').text}))\n",
    "    event.append(ET.Element('int', {'key': 'id', 'value': document_element.find('id').text}))\n",
    "    event.append(ET.Element('string', {'key': 'titel', 'value': document_element.find('titel').text}))\n",
    "       \n",
    "    \n",
    "    # Determine org:resource based on ressort/titel\n",
    "    # If Ressort exists:\n",
    "    if document_element.find('ressort') is not None:\n",
    "        ET.SubElement(event, 'string', {'key': 'org:resource', 'value': document_element.find('.//ressort/titel').text})\n",
    "        ET.SubElement(event, 'string', {'key': 'org:role', 'value': 'Ressort'})\n",
    "        ressource_element = ET.SubElement(event, 'string', {'key': 'resource_details', 'value': 'Ressort'})\n",
    "        if document_element.find('.//ressort/federfuehrend') is not None:\n",
    "            ET.SubElement(ressource_element, 'string', {'key': 'federfuehrend', 'value': document_element.find('.//ressort/federfuehrend').text})\n",
    "        ET.SubElement(ressource_element, 'string', {'key': 'herkunft', 'value': 'Ressort'})\n",
    "        urheber_elements = document_element.findall('urheber')\n",
    "        for Urheber_name in [urheber.find('titel').text for urheber in urheber_elements]:\n",
    "            ET.SubElement(ressource_element, 'string', {'key': 'urheber', 'value': Urheber_name})\n",
    "    \n",
    "    else:\n",
    "        urheber_elements = document_element.findall('urheber')\n",
    "        if urheber_elements is not None:\n",
    "            urheber_names = [urheber.find('titel').text for urheber in urheber_elements]\n",
    "            faction_names = [urheber.find('titel').text for urheber in urheber_elements if 'Fraktion' in urheber.find('titel').text]\n",
    "            # If Fraktion exists:\n",
    "            if faction_names:\n",
    "                faction_name = ' zusammen mit '.join(urheber_names)\n",
    "                ET.SubElement(event, 'string', {'key': 'org:resource', 'value': faction_name})\n",
    "                ressource_element = ET.SubElement(event, 'string', {'key': 'resource_details', 'value': 'Fraktion'})\n",
    "                ET.SubElement(event, 'string', {'key': 'org:role', 'value': 'Fraktion'})\n",
    "                ET.SubElement(ressource_element, 'string', {'key': 'einbringer', 'value': document_element.find('.//urheber/einbringer').text})\n",
    "                ET.SubElement(ressource_element, 'string', {'key': 'herkunft', 'value': 'Urheber'})\n",
    "            else:\n",
    "                ressource_name = ' zusammen mit '.join(urheber_names)                 \n",
    "                if 'Ausschuss' in ressource_name:\n",
    "                    ET.SubElement(event, 'string', {'key': 'org:resource', 'value': ressource_name})\n",
    "                    ressource_element = ET.SubElement(event, 'string', {'key': 'resource_details', 'value': 'Ausschuss'})\n",
    "                    ET.SubElement(event, 'string', {'key': 'org:role', 'value': 'Ausschuss'})\n",
    "                elif 'Deutsche Delegation' in ressource_name:\n",
    "                    ET.SubElement(event, 'string', {'key': 'org:resource', 'value': ressource_name})\n",
    "                    ressource_element = ET.SubElement(event, 'string', {'key': 'resource_details', 'value': 'Deutsche Delegation'})\n",
    "                    ET.SubElement(event, 'string', {'key': 'org:role', 'value': 'Deutsche Delegation'})\n",
    "                else:\n",
    "                    ressource_element = ET.SubElement(event, 'string', {'key': 'resource_details', 'value': 'Sonstiges'})\n",
    "                    ET.SubElement(event, 'string', {'key': 'org:resource', 'value': ressource_name})\n",
    "                    ET.SubElement(event, 'string', {'key': 'org:role', 'value': 'Sonstiges'})\n",
    "                ET.SubElement(ressource_element, 'string', {'key': 'herkunft', 'value': 'Urheber'})\n",
    "            # Add urheber element\n",
    "            for Urheber_name in urheber_names:\n",
    "                ET.SubElement(ressource_element, 'string', {'key': 'urheber', 'value': Urheber_name})\n",
    "        else:\n",
    "            ressource_element = ET.SubElement(event, 'string', {'key': 'org:resource', 'value': 'Sonstiges'})\n",
    "            ET.SubElement(ressource_element, 'string', {'key': 'typ', 'value': 'Sonstiges'})\n",
    "            # Add urheber element to Sonstiges\n",
    "            for Urheber_name in urheber_names:\n",
    "                ET.SubElement(ressource_element, 'string', {'key': 'urheber', 'value': Urheber_name})\n",
    "        \n",
    " \n",
    "    # Vorgangsbezug\n",
    "    vorgangsbezug_element = ET.SubElement(event, 'string', {'key': 'vorgangsbezug', 'value': document_element.find('.//vorgangsbezug/titel').text})\n",
    "    ET.SubElement(vorgangsbezug_element, 'string', {'key': 'vorgangsbezug_typ', 'value': document_element.find('.//vorgangsbezug/vorgangstyp').text})\n",
    "    ET.SubElement(vorgangsbezug_element, 'int', {'key': 'vorgangsbezug_id', 'value': document_element.find('.//vorgangsbezug/id').text})\n",
    "    ET.SubElement(vorgangsbezug_element, 'int', {'key': 'vorgangsbezug_anzahl', 'value': document_element.find('vorgangsbezug_anzahl').text})\n",
    "    \n",
    "    # Autoren\n",
    "    autoren_anzahl = document_element.find('autoren_anzahl')\n",
    "    if autoren_anzahl is not None:\n",
    "        autoren_list = ET.Element('list', {'key': 'autoren'})\n",
    "\n",
    "        for autoren_anzeige in document_element.findall('.//autoren_anzeige'):\n",
    "            author_id = autoren_anzeige.find('id').text\n",
    "            author_title_element = autoren_anzeige.find('titel')\n",
    "            author_title = author_title_element.text if author_title_element is not None else ''\n",
    "            author_info = f\"{author_title}, {author_id}\"\n",
    "\n",
    "            ET.SubElement(autoren_list, 'string', {'key': 'autor', 'value': author_info})\n",
    "\n",
    "        event.append(autoren_list)\n",
    "\n",
    "    # Fundstelle\n",
    "    fundstelle = document_element.find('.//fundstelle')\n",
    "    if fundstelle is not None:\n",
    "        fundstelle_element = ET.SubElement(event, 'string', {'key': 'fundstelle', 'value': fundstelle.find('pdf_url').text if fundstelle.find('pdf_url') is not None else ''})\n",
    "        if fundstelle.find('verteildatum') is not None:\n",
    "            ET.SubElement(fundstelle_element, 'date', {'key': 'verteildatum', 'value': fundstelle.find('verteildatum').text if fundstelle.find('verteildatum') is not None else ''})\n",
    "        ET.SubElement(fundstelle_element, 'string', {'key': 'pdf_hash', 'value': document_element.find('pdf_hash').text if document_element.find('pdf_hash') is not None else ''})\n",
    "    \n",
    "    # Urheber\n",
    "    urheber_elements = document_element.findall('urheber')\n",
    "    if urheber_elements is not None:\n",
    "        urheber_list = [urheber.find('titel').text for urheber in urheber_elements]\n",
    "        if 'Bundesregierung' in urheber_list:\n",
    "            org_group_value = 'Bundesregierung' \n",
    "        elif 'Fraktion' in urheber_list:\n",
    "            org_group_value = 'Opposition' \n",
    "        else:\n",
    "            org_group_value = 'Bundestag'\n",
    "        ET.SubElement(event, 'string', {'key': 'org:group', 'value': org_group_value})\n",
    "\n",
    "    event.append(ET.Element('string', {'key': 'aktualisiert', 'value': document_element.find('aktualisiert').text}))\n",
    "    \n",
    "    return event"
   ]
  },
  {
   "cell_type": "code",
   "execution_count": 7,
   "id": "a437140e",
   "metadata": {},
   "outputs": [],
   "source": [
    "def create_and_save_xes(root, output_file):\n",
    "# Create a dictionary to store traces based on vorgangsbezug\n",
    "    traces_dict = {}\n",
    "\n",
    "    # Iterate through each <document> element\n",
    "    for document_element in root.findall('.//document'):\n",
    "        # Convert the <document> element to XES event\n",
    "        event = convert_to_xes(document_element)\n",
    "\n",
    "        # Get vorgangsbezug to use as the key\n",
    "        vorgangsbezug = document_element.find('.//vorgangsbezug/id').text\n",
    "\n",
    "        # Check if the vorgangsbezug is already a trace\n",
    "        if vorgangsbezug in traces_dict:\n",
    "            traces_dict[vorgangsbezug].append(event)\n",
    "        else:\n",
    "            # Create a new trace if it doesn't exist\n",
    "            traces_dict[vorgangsbezug] = [event]\n",
    "\n",
    "    # Add global elements\n",
    "\n",
    "    # Create a new XES log\n",
    "    xes_log = ET.Element('log', {'xes.version': '1.0', 'xes.features': 'nested-attributes'})\n",
    "    xes_log.append(ET.Element('extension', {'name': 'Concept', 'prefix': 'concept', 'uri': 'http://www.xes-standard.org/concept.xesext'}))\n",
    "    xes_log.append(ET.Element('extension', {'name': 'Organizational', 'prefix': 'org', 'uri': 'http://www.xes-standard.org/org.xesext'}))\n",
    "    xes_log.append(ET.Element('extension', {'name': 'Time', 'prefix': 'time', 'uri': 'http://www.xes-standard.org/time.xesext'}))\n",
    "\n",
    "\n",
    "    global_scope_trace = ET.SubElement(xes_log, 'global', {'scope': 'trace'})\n",
    "    ET.SubElement(global_scope_trace, 'string', {'key': 'concept:name', 'value': ''})\n",
    "\n",
    "    global_scope_event = ET.SubElement(xes_log, 'global', {'scope': 'event'})\n",
    "    ET.SubElement(global_scope_event, 'string', {'key': 'concept:name', 'value': ''})\n",
    "    ET.SubElement(global_scope_event, 'date', {'key': 'time:timestamp', 'value': '1970-01-01T00:00:00.000+00:00'})\n",
    "\n",
    "    xes_log.append(ET.Element('classifier', {'name': 'drucksachetyp', 'keys': 'concept:name'}))\n",
    "\n",
    "    for trace_key in traces_dict:\n",
    "        trace = ET.Element('trace')\n",
    "\n",
    "        trace_id = ''.join(filter(str.isdigit, trace_key))\n",
    "        ET.SubElement(trace, 'string', {'key': 'concept:name', 'value': trace_id})\n",
    "\n",
    "        events = sorted(traces_dict[trace_key], key=lambda x: x.find('date').attrib['value'])\n",
    "        trace.extend(events)\n",
    "        xes_log.append(trace)\n",
    "\n",
    "    xes_tree = ET.ElementTree(xes_log)\n",
    "    xml_string = ET.tostring(xes_log, encoding='utf-8', xml_declaration=True).decode()\n",
    "\n",
    "    # Prettifying\n",
    "    dom = xml.dom.minidom.parseString(xml_string)\n",
    "    pretty_xml_string = dom.toprettyxml(indent=\"  \")\n",
    "\n",
    "    # Save\n",
    "    with open(output_file, 'w', encoding='utf-8') as output_file:\n",
    "        output_file.write(pretty_xml_string)\n",
    "        print(\"all done!\")"
   ]
  },
  {
   "cell_type": "markdown",
   "id": "0b64182c",
   "metadata": {},
   "source": [
    "## For kleine Anfrage"
   ]
  },
  {
   "cell_type": "code",
   "execution_count": 8,
   "id": "53d5ae07",
   "metadata": {
    "scrolled": true
   },
   "outputs": [],
   "source": [
    "tree = ET.parse('.//XML files/Kleine_Anfrage.xml')\n",
    "root = tree.getroot()\n",
    "output_file = \".//Event Logs/Kleine_Anfrage.xes\""
   ]
  },
  {
   "cell_type": "code",
   "execution_count": 9,
   "id": "bbb43ec5",
   "metadata": {},
   "outputs": [
    {
     "name": "stdout",
     "output_type": "stream",
     "text": [
      "all done!\n"
     ]
    }
   ],
   "source": [
    "create_and_save_xes(root, output_file)"
   ]
  },
  {
   "cell_type": "markdown",
   "id": "7f66b5b4",
   "metadata": {},
   "source": [
    "Manual Changes:\n",
    "- Change order of the events in trace: key=\"concept:name\" value=\"281447\", so that the Answer is after the inquiry \n",
    "- Delete traces with only \"ergänzende Antwort\" refereing to \"17/XXX\""
   ]
  },
  {
   "cell_type": "markdown",
   "id": "d6c9632d",
   "metadata": {},
   "source": [
    "## Gesetzgebung"
   ]
  },
  {
   "cell_type": "markdown",
   "id": "3285273f",
   "metadata": {},
   "source": [
    "Use same definition as for \"kleine Anfrage\""
   ]
  },
  {
   "cell_type": "code",
   "execution_count": 10,
   "id": "99fa951d",
   "metadata": {},
   "outputs": [],
   "source": [
    "tree = ET.parse('.//XML files/Gesetzgebung.xml')\n",
    "root = tree.getroot()\n",
    "output_file = './/Event Logs/Gesetzentwurf.xes'"
   ]
  },
  {
   "cell_type": "code",
   "execution_count": 11,
   "id": "fe34995d",
   "metadata": {},
   "outputs": [
    {
     "name": "stdout",
     "output_type": "stream",
     "text": [
      "all done!\n"
     ]
    }
   ],
   "source": [
    "create_and_save_xes(root, output_file)"
   ]
  },
  {
   "cell_type": "markdown",
   "id": "b5ac95cd",
   "metadata": {},
   "source": [
    "## Antrag"
   ]
  },
  {
   "cell_type": "code",
   "execution_count": 12,
   "id": "4dd4b3bf",
   "metadata": {},
   "outputs": [],
   "source": [
    "tree = ET.parse('.//XML files/Antrag.xml')\n",
    "root = tree.getroot()\n",
    "output_file = './/Event Logs/Antrag.xes'"
   ]
  },
  {
   "cell_type": "code",
   "execution_count": 13,
   "id": "be0df227",
   "metadata": {},
   "outputs": [
    {
     "name": "stdout",
     "output_type": "stream",
     "text": [
      "all done!\n"
     ]
    }
   ],
   "source": [
    "create_and_save_xes(root, output_file)"
   ]
  },
  {
   "cell_type": "markdown",
   "id": "b3f52ca4",
   "metadata": {},
   "source": [
    "## Geschäftsordnung"
   ]
  },
  {
   "cell_type": "code",
   "execution_count": 15,
   "id": "cef94bf2",
   "metadata": {},
   "outputs": [],
   "source": [
    "tree = ET.parse('.//XML files/Geschäftsordnung.xml')\n",
    "root = tree.getroot()\n",
    "output_file = './/Event Logs/Geschäftsordnung.xes'"
   ]
  },
  {
   "cell_type": "code",
   "execution_count": 16,
   "id": "3f4f493b",
   "metadata": {},
   "outputs": [
    {
     "name": "stdout",
     "output_type": "stream",
     "text": [
      "all done!\n"
     ]
    }
   ],
   "source": [
    "create_and_save_xes(root, output_file)"
   ]
  },
  {
   "cell_type": "markdown",
   "id": "413b0d9b",
   "metadata": {},
   "source": [
    "## Große Anfrage"
   ]
  },
  {
   "cell_type": "code",
   "execution_count": 17,
   "id": "e6b6d6e3",
   "metadata": {},
   "outputs": [],
   "source": [
    "tree = ET.parse('.//XML files/Große_Anfrage.xml')\n",
    "root = tree.getroot()\n",
    "output_file = './/Event Logs/Große_Anfrage.xes'"
   ]
  },
  {
   "cell_type": "code",
   "execution_count": 18,
   "id": "06a83311",
   "metadata": {},
   "outputs": [
    {
     "name": "stdout",
     "output_type": "stream",
     "text": [
      "all done!\n"
     ]
    }
   ],
   "source": [
    "create_and_save_xes(root, output_file)"
   ]
  },
  {
   "cell_type": "markdown",
   "id": "c21fed63",
   "metadata": {},
   "source": [
    "## Rechtsverordnung"
   ]
  },
  {
   "cell_type": "code",
   "execution_count": 19,
   "id": "1c7a3462",
   "metadata": {},
   "outputs": [],
   "source": [
    "tree = ET.parse('.//XML files/Rechtsverordnung.xml')\n",
    "root = tree.getroot()\n",
    "output_file = './/Event Logs/Rechtsverordnung.xes'"
   ]
  },
  {
   "cell_type": "code",
   "execution_count": 20,
   "id": "0f02952b",
   "metadata": {},
   "outputs": [
    {
     "name": "stdout",
     "output_type": "stream",
     "text": [
      "all done!\n"
     ]
    }
   ],
   "source": [
    "create_and_save_xes(root, output_file)"
   ]
  }
 ],
 "metadata": {
  "kernelspec": {
   "display_name": "Python 3",
   "language": "python",
   "name": "python3"
  },
  "language_info": {
   "codemirror_mode": {
    "name": "ipython",
    "version": 3
   },
   "file_extension": ".py",
   "mimetype": "text/x-python",
   "name": "python",
   "nbconvert_exporter": "python",
   "pygments_lexer": "ipython3",
   "version": "3.8.8"
  }
 },
 "nbformat": 4,
 "nbformat_minor": 5
}
